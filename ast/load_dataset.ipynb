{
 "cells": [
  {
   "cell_type": "code",
   "execution_count": null,
   "metadata": {},
   "outputs": [],
   "source": [
    "import os\n",
    "suspicious_audios_path = \"C:/Users/Boris/Documents/GitHub/A-safe-environment-for-our-little-ones/donateacry-corpus-master/Suspicious\"\n",
    "regular_audios_path = \"C:/Users/Boris/Documents/GitHub/A-safe-environment-for-our-little-ones/donateacry-corpus-master/Regular\"\n",
    "suspicious_label = \"/m/09x0r\"\n",
    "regular_label = \"/m/05zppz\"\n",
    "suspicious_audios = os.listdir(suspicious_audios_path)\n",
    "regular_audios = os.listdir(regular_audios_path)\n",
    "suspicious_audios_elems = [(audio_path,suspicious_label) for audio_path in suspicious_audios]\n",
    "regular_audios_elems = [(audio_path,regular_label) for audio_path in regular_audios]"
   ]
  },
  {
   "cell_type": "code",
   "execution_count": 14,
   "metadata": {},
   "outputs": [],
   "source": [
    "from sklearn.model_selection import train_test_split\n",
    "\n",
    "X_train_regular, X_test_regular = train_test_split(regular_audios_elems, test_size=0.3, random_state=42)\n",
    "len(X_train_regular),len(X_test_regular)\n",
    "\n",
    "X_train_suspicious, X_test_suspicious = train_test_split(suspicious_audios_elems, test_size=0.3, random_state=42)\n",
    "len(X_train_suspicious),len(X_test_suspicious)\n",
    "\n",
    "X_train_total = X_train_regular+X_train_suspicious\n",
    "\n",
    "X_test_total = X_test_regular + X_test_suspicious\n",
    "\n",
    "import json\n",
    "data = []\n",
    "for elem in  X_train_total:\n",
    "    # Data to be written\n",
    "    dictionary = {\n",
    "        \"wav\": elem[0],\n",
    "        \"labels\": elem[1]\n",
    "    }\n",
    "    data.append(dictionary)\n",
    "\n",
    "dict = {\"data\":data}\n",
    "with open(\"train_data.json\", \"w\") as outfile:\n",
    "    json.dump(dict, outfile,indent=4)\n",
    "\n",
    "\n",
    "\n",
    "\n",
    "\n",
    "\n"
   ]
  },
  {
   "cell_type": "code",
   "execution_count": 15,
   "metadata": {},
   "outputs": [],
   "source": [
    "import json\n",
    "data = []\n",
    "for elem in  X_test_total:\n",
    "    # Data to be written\n",
    "    dictionary = {\n",
    "        \"wav\": elem[0],\n",
    "        \"labels\": elem[1]\n",
    "    }\n",
    "    data.append(dictionary)\n",
    "\n",
    "dict = {\"data\":data}\n",
    "with open(\"test_data.json\", \"w\") as outfile:\n",
    "    json.dump(dict, outfile,indent=4)\n",
    "\n",
    "\n"
   ]
  },
  {
   "cell_type": "code",
   "execution_count": null,
   "metadata": {},
   "outputs": [],
   "source": []
  }
 ],
 "metadata": {
  "kernelspec": {
   "display_name": "Python 3.9.13 ('base')",
   "language": "python",
   "name": "python3"
  },
  "language_info": {
   "codemirror_mode": {
    "name": "ipython",
    "version": 3
   },
   "file_extension": ".py",
   "mimetype": "text/x-python",
   "name": "python",
   "nbconvert_exporter": "python",
   "pygments_lexer": "ipython3",
   "version": "3.9.13"
  },
  "orig_nbformat": 4,
  "vscode": {
   "interpreter": {
    "hash": "760dee24a5ca5073c47f11f6c37bb580f3b08667931a70f30c5f81c0c6ea1418"
   }
  }
 },
 "nbformat": 4,
 "nbformat_minor": 2
}
